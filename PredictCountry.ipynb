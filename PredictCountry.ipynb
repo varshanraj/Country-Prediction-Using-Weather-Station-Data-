{
  "nbformat": 4,
  "nbformat_minor": 0,
  "metadata": {
    "colab": {
      "provenance": []
    },
    "kernelspec": {
      "name": "python3",
      "display_name": "Python 3"
    },
    "language_info": {
      "name": "python"
    }
  },
  "cells": [
    {
      "cell_type": "code",
      "execution_count": null,
      "metadata": {
        "id": "dZIuZyzIiUkB"
      },
      "outputs": [],
      "source": [
        "import pandas as pd\n",
        "import matplotlib.pyplot as plt\n",
        "import numpy as np\n",
        "from sklearn.model_selection import train_test_split\n",
        "from sklearn.linear_model import LinearRegression\n",
        "\n",
        "df = pd.read_csv('/content/Weather Station Locations.csv')"
      ]
    },
    {
      "cell_type": "code",
      "source": [
        "print(df.head())\n",
        "df.columns"
      ],
      "metadata": {
        "colab": {
          "base_uri": "https://localhost:8080/"
        },
        "id": "hm6t6eqsi4yn",
        "outputId": "b24bc63a-d00a-43d3-c8c6-c882c15ee668"
      },
      "execution_count": null,
      "outputs": [
        {
          "output_type": "stream",
          "name": "stdout",
          "text": [
            "    WBAN            NAME STATE/COUNTRY ID    LAT     LON  ELEV   Latitude  \\\n",
            "0  33013          AIN EL               AL  3623N  00637E   611  36.383333   \n",
            "1  33031        LA SENIA               AL  3537N  00037E    88  35.616667   \n",
            "2  33023  MAISON BLANCHE               AL  3643N  00314E    23  36.716667   \n",
            "3  33044        TELERGMA               AL  3607N  00621E   754  36.116667   \n",
            "4  12001         TINDOUF               AL  2741N  00809W   443  27.683333   \n",
            "\n",
            "   Longitude  \n",
            "0   6.650000  \n",
            "1   0.583333  \n",
            "2   3.216667  \n",
            "3   6.416667  \n",
            "4  -8.083333  \n"
          ]
        },
        {
          "output_type": "execute_result",
          "data": {
            "text/plain": [
              "Index(['WBAN', 'NAME', 'STATE/COUNTRY ID', 'LAT', 'LON', 'ELEV', 'Latitude',\n",
              "       'Longitude'],\n",
              "      dtype='object')"
            ]
          },
          "metadata": {},
          "execution_count": 17
        }
      ]
    },
    {
      "cell_type": "code",
      "source": [
        "col_to_drop = ['WBAN', 'NAME', 'LAT', 'LON']\n",
        "df = df.drop(col_to_drop, axis=1)\n",
        "print(df.head())"
      ],
      "metadata": {
        "colab": {
          "base_uri": "https://localhost:8080/"
        },
        "id": "9Bb_sFdJjIif",
        "outputId": "e6c29b20-cbaa-44d8-ba9a-9a6724f071bb"
      },
      "execution_count": null,
      "outputs": [
        {
          "output_type": "stream",
          "name": "stdout",
          "text": [
            "  STATE/COUNTRY ID  ELEV   Latitude  Longitude\n",
            "0               AL   611  36.383333   6.650000\n",
            "1               AL    88  35.616667   0.583333\n",
            "2               AL    23  36.716667   3.216667\n",
            "3               AL   754  36.116667   6.416667\n",
            "4               AL   443  27.683333  -8.083333\n"
          ]
        }
      ]
    },
    {
      "cell_type": "code",
      "source": [
        "df.info()"
      ],
      "metadata": {
        "colab": {
          "base_uri": "https://localhost:8080/"
        },
        "id": "bFkJS-HEjr4v",
        "outputId": "a68006f2-0b1b-470b-def6-ff7a1c16a178"
      },
      "execution_count": null,
      "outputs": [
        {
          "output_type": "stream",
          "name": "stdout",
          "text": [
            "<class 'pandas.core.frame.DataFrame'>\n",
            "RangeIndex: 161 entries, 0 to 160\n",
            "Data columns (total 4 columns):\n",
            " #   Column            Non-Null Count  Dtype  \n",
            "---  ------            --------------  -----  \n",
            " 0   STATE/COUNTRY ID  161 non-null    object \n",
            " 1   ELEV              161 non-null    int64  \n",
            " 2   Latitude          161 non-null    float64\n",
            " 3   Longitude         161 non-null    float64\n",
            "dtypes: float64(2), int64(1), object(1)\n",
            "memory usage: 5.2+ KB\n"
          ]
        }
      ]
    },
    {
      "cell_type": "code",
      "source": [
        "x = df[['ELEV', 'Latitude', 'Longitude']]\n",
        "y = df['STATE/COUNTRY ID']\n",
        "\n",
        "df = pd.DataFrame(df)\n",
        "\n",
        "from sklearn.preprocessing import LabelEncoder\n",
        "\n",
        "label_encoder = LabelEncoder()\n",
        "df['STATE/COUNTRY ID'] = label_encoder.fit_transform(df['STATE/COUNTRY ID'])\n",
        "country_mapping = {index: label for index, label in enumerate(label_encoder.classes_)}\n",
        "\n",
        "print(\"Mapping of encoded values to original country names:\")\n",
        "for encoded, country in country_mapping.items():\n",
        "    print(f\"{encoded} -> {country}\")"
      ],
      "metadata": {
        "colab": {
          "base_uri": "https://localhost:8080/"
        },
        "id": "QX6hVgDqjiCn",
        "outputId": "3f3ec1e4-bb54-46f2-e914-4eff38377aa8"
      },
      "execution_count": null,
      "outputs": [
        {
          "output_type": "stream",
          "name": "stdout",
          "text": [
            "Mapping of encoded values to original country names:\n",
            "0 -> AL\n",
            "1 -> AT\n",
            "2 -> AU\n",
            "3 -> AZ\n",
            "4 -> BA\n",
            "5 -> BE\n",
            "6 -> BN\n",
            "7 -> BR\n",
            "8 -> BZ\n",
            "9 -> CS\n",
            "10 -> CT\n",
            "11 -> CU\n",
            "12 -> DR\n",
            "13 -> DY\n",
            "14 -> EG\n",
            "15 -> EQ\n",
            "16 -> ER\n",
            "17 -> ET\n",
            "18 -> FJ\n",
            "19 -> FR\n",
            "20 -> GH\n",
            "21 -> GL\n",
            "22 -> GR\n",
            "23 -> GU\n",
            "24 -> GY\n",
            "25 -> HA\n",
            "26 -> HI\n",
            "27 -> IL\n",
            "28 -> IN\n",
            "29 -> IQ\n",
            "30 -> IR\n",
            "31 -> IY\n",
            "32 -> JM\n",
            "33 -> JP\n",
            "34 -> KO\n",
            "35 -> KU\n",
            "36 -> LC\n",
            "37 -> LI\n",
            "38 -> LY\n",
            "39 -> MC\n",
            "40 -> MT\n",
            "41 -> NG\n",
            "42 -> NH\n",
            "43 -> NI\n",
            "44 -> NK\n",
            "45 -> NU\n",
            "46 -> NZ\n",
            "47 -> OM\n",
            "48 -> PF\n",
            "49 -> PH\n",
            "50 -> PI\n",
            "51 -> PK\n",
            "52 -> PM\n",
            "53 -> PQ\n",
            "54 -> PR\n",
            "55 -> SG\n",
            "56 -> SO\n",
            "57 -> SP\n",
            "58 -> TD\n",
            "59 -> TI\n",
            "60 -> TO\n",
            "61 -> TS\n",
            "62 -> TU\n",
            "63 -> UK\n"
          ]
        }
      ]
    },
    {
      "cell_type": "code",
      "source": [
        "df.info()"
      ],
      "metadata": {
        "colab": {
          "base_uri": "https://localhost:8080/"
        },
        "id": "176fbhrtkPR_",
        "outputId": "1d4f5c13-4e4a-4d01-ddfd-126179b95737"
      },
      "execution_count": null,
      "outputs": [
        {
          "output_type": "stream",
          "name": "stdout",
          "text": [
            "<class 'pandas.core.frame.DataFrame'>\n",
            "RangeIndex: 161 entries, 0 to 160\n",
            "Data columns (total 4 columns):\n",
            " #   Column            Non-Null Count  Dtype  \n",
            "---  ------            --------------  -----  \n",
            " 0   STATE/COUNTRY ID  161 non-null    int64  \n",
            " 1   ELEV              161 non-null    int64  \n",
            " 2   Latitude          161 non-null    float64\n",
            " 3   Longitude         161 non-null    float64\n",
            "dtypes: float64(2), int64(2)\n",
            "memory usage: 5.2 KB\n"
          ]
        }
      ]
    },
    {
      "cell_type": "code",
      "source": [
        "x = df[['ELEV', 'Latitude', 'Longitude']]\n",
        "y = df['STATE/COUNTRY ID']\n",
        "\n",
        "x_train, x_test, y_train, y_test = train_test_split(x, y, test_size=0.2, random_state=11)\n",
        "model = LinearRegression()\n",
        "model.fit(x_train, y_train)\n",
        "\n",
        "y_pred = model.predict(x_test)\n",
        "y_pred"
      ],
      "metadata": {
        "colab": {
          "base_uri": "https://localhost:8080/"
        },
        "id": "tXvYtJjjkR_X",
        "outputId": "ed6b85a2-3536-4a6d-843a-8b9d9954daf3"
      },
      "execution_count": null,
      "outputs": [
        {
          "output_type": "execute_result",
          "data": {
            "text/plain": [
              "array([30.79897218, 29.90769334, 30.25468602, 28.06393687, 34.06316666,\n",
              "       29.82256607, 30.93551118, 33.19473101, 32.46129312, 27.18598058,\n",
              "       24.02312399, 30.54223677, 22.68898729, 28.44620444, 28.2869694 ,\n",
              "       32.48885618, 34.05829038, 28.31790232, 31.30221448, 31.05315186,\n",
              "       24.12446468, 23.91254276, 30.92286958, 24.12696024, 27.73502366,\n",
              "       30.47574841, 30.5192279 , 28.10672044, 32.44826756, 26.36582145,\n",
              "       29.95477497, 28.8757763 , 31.54924953])"
            ]
          },
          "metadata": {},
          "execution_count": 22
        }
      ]
    },
    {
      "cell_type": "code",
      "source": [
        "plt.scatter(x_test.iloc[:,1], y_test, color='green', label='Actual value')\n",
        "plt.scatter(x_test.iloc[:,1], y_pred, color='red', label='Predicted value')\n",
        "plt.xlabel('Coordinates and elevation')\n",
        "plt.ylabel('Country')\n",
        "plt.title('Country Prediction')\n",
        "plt.legend()\n",
        "plt.show()"
      ],
      "metadata": {
        "colab": {
          "base_uri": "https://localhost:8080/",
          "height": 472
        },
        "id": "OD7ResJxlDVH",
        "outputId": "c348bcf2-8e4a-4912-adf0-4dbf317e0dbf"
      },
      "execution_count": null,
      "outputs": [
        {
          "output_type": "display_data",
          "data": {
            "text/plain": [
              "<Figure size 640x480 with 1 Axes>"
            ],
            "image/png": "[encoded data removed]"
          },
          "metadata": {}
        }
      ]
    },
    {
      "cell_type": "code",
      "source": [
        "model.predict([[187,-23.45,144.0666667]])\n",
        "\n",
        "from sklearn.metrics import mean_squared_error, r2_score, accuracy_score\n",
        "\n",
        "mse = mean_squared_error(y_test, y_pred)\n",
        "r2 = r2_score(y_test, y_pred)\n",
        "\n",
        "print(f'Mean Squared Error: {mse}')\n",
        "print(f'R^2 Score: {r2}')"
      ],
      "metadata": {
        "colab": {
          "base_uri": "https://localhost:8080/"
        },
        "id": "d-4tiiICmGkI",
        "outputId": "3249bdf0-ae2b-45a2-ff7b-cd69067b2943"
      },
      "execution_count": null,
      "outputs": [
        {
          "output_type": "stream",
          "name": "stdout",
          "text": [
            "Mean Squared Error: 327.21954350918963\n",
            "R^2 Score: -0.030808010834810773\n"
          ]
        },
        {
          "output_type": "stream",
          "name": "stderr",
          "text": [
            "/usr/local/lib/python3.10/dist-packages/sklearn/base.py:439: UserWarning: X does not have valid feature names, but LinearRegression was fitted with feature names\n",
            "  warnings.warn(\n"
          ]
        }
      ]
    }
  ]
}